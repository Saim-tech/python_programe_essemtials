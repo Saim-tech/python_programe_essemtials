{
  "nbformat": 4,
  "nbformat_minor": 0,
  "metadata": {
    "colab": {
      "name": "Day 5 Assignment.ipynb",
      "provenance": []
    },
    "kernelspec": {
      "name": "python3",
      "display_name": "Python 3"
    }
  },
  "cells": [
    {
      "cell_type": "markdown",
      "metadata": {
        "id": "4sSiXl9T6JNY"
      },
      "source": [
        "**Cryptography**"
      ]
    },
    {
      "cell_type": "code",
      "metadata": {
        "colab": {
          "base_uri": "https://localhost:8080/"
        },
        "id": "DAeDwcl16VZP",
        "outputId": "5fa376dd-b324-41a0-8247-c1a633c41aac"
      },
      "source": [
        "!pip install cryptography"
      ],
      "execution_count": 46,
      "outputs": [
        {
          "output_type": "stream",
          "text": [
            "Requirement already satisfied: cryptography in /usr/local/lib/python3.6/dist-packages (3.3.1)\n",
            "Requirement already satisfied: cffi>=1.12 in /usr/local/lib/python3.6/dist-packages (from cryptography) (1.14.4)\n",
            "Requirement already satisfied: six>=1.4.1 in /usr/local/lib/python3.6/dist-packages (from cryptography) (1.15.0)\n",
            "Requirement already satisfied: pycparser in /usr/local/lib/python3.6/dist-packages (from cffi>=1.12->cryptography) (2.20)\n"
          ],
          "name": "stdout"
        }
      ]
    },
    {
      "cell_type": "code",
      "metadata": {
        "id": "zdEVPd9t6V4w"
      },
      "source": [
        "from cryptography.fernet import Fernet"
      ],
      "execution_count": 47,
      "outputs": []
    },
    {
      "cell_type": "code",
      "metadata": {
        "id": "MBcILDiT6V_l"
      },
      "source": [
        "def genratePassKey():\n",
        "    key = Fernet.generate_key()\n",
        "    print(key)\n",
        "    print(type(key))\n",
        "    abc = open(\"PasswordKey.key\",'wb')\n",
        "    abc.write(key)\n",
        "    abc.close()"
      ],
      "execution_count": 48,
      "outputs": []
    },
    {
      "cell_type": "code",
      "metadata": {
        "colab": {
          "base_uri": "https://localhost:8080/"
        },
        "id": "i0gIh64a6WG0",
        "outputId": "91371776-f8f2-4db0-cd16-c9938ae78f83"
      },
      "source": [
        "genratePassKey()"
      ],
      "execution_count": 49,
      "outputs": [
        {
          "output_type": "stream",
          "text": [
            "b'jGr3z_MHFDzCSy133L-SaiKqXYE34wuts-eT91B8YTU='\n",
            "<class 'bytes'>\n"
          ],
          "name": "stdout"
        }
      ]
    },
    {
      "cell_type": "code",
      "metadata": {
        "id": "98ld7ipM6WMv"
      },
      "source": [
        "def getMyKey():\n",
        "    abc = open(\"PasswordKey.key\",'rb')\n",
        "    return abc.read()"
      ],
      "execution_count": 50,
      "outputs": []
    },
    {
      "cell_type": "code",
      "metadata": {
        "colab": {
          "base_uri": "https://localhost:8080/"
        },
        "id": "0ObDCqaKBnrC",
        "outputId": "daeac841-b720-4443-932e-0ff4ddaa615b"
      },
      "source": [
        "getMyKey()"
      ],
      "execution_count": 51,
      "outputs": [
        {
          "output_type": "execute_result",
          "data": {
            "text/plain": [
              "b'jGr3z_MHFDzCSy133L-SaiKqXYE34wuts-eT91B8YTU='"
            ]
          },
          "metadata": {
            "tags": []
          },
          "execution_count": 51
        }
      ]
    },
    {
      "cell_type": "code",
      "metadata": {
        "id": "4YlR8AUZ6WgM"
      },
      "source": [
        "def getContentFromUser():\n",
        "    return input(\"Enter the Content you want to Encrypt in your python Script\")"
      ],
      "execution_count": 54,
      "outputs": []
    },
    {
      "cell_type": "code",
      "metadata": {
        "colab": {
          "base_uri": "https://localhost:8080/",
          "height": 52
        },
        "id": "tZiumhjM6WUB",
        "outputId": "29e76e82-f2ce-4d0b-9d6a-2daf1b22e88c"
      },
      "source": [
        "getContentFromUser()"
      ],
      "execution_count": 56,
      "outputs": [
        {
          "output_type": "stream",
          "text": [
            "Enter the Content you want to Encrypt in your python ScriptLets Upgrade\n"
          ],
          "name": "stdout"
        },
        {
          "output_type": "execute_result",
          "data": {
            "application/vnd.google.colaboratory.intrinsic+json": {
              "type": "string"
            },
            "text/plain": [
              "'Lets Upgrade'"
            ]
          },
          "metadata": {
            "tags": []
          },
          "execution_count": 56
        }
      ]
    },
    {
      "cell_type": "code",
      "metadata": {
        "id": "g-xQ_0U66Wnn"
      },
      "source": [
        "def encryptMessage(message_normal):\n",
        "    key = getMyKey()\n",
        "    k = Fernet(key)\n",
        "    encrypted_Message = k.encrypt(message_normal)\n",
        "    return encrypted_Message"
      ],
      "execution_count": 59,
      "outputs": []
    },
    {
      "cell_type": "code",
      "metadata": {
        "colab": {
          "base_uri": "https://localhost:8080/"
        },
        "id": "4U9vOFpr6Wue",
        "outputId": "5781bce9-433f-468b-a978-fa9e7365fe80"
      },
      "source": [
        "encryptMessage(b\" HEY THIS IS MY ATM NUMBER 734451\")"
      ],
      "execution_count": 60,
      "outputs": [
        {
          "output_type": "execute_result",
          "data": {
            "text/plain": [
              "b'gAAAAABf3jjg7YguYh7sFv2KlA-r4_OUXm-gv9rNjjPVekj5zEaMt9fp5PXJhR1KakVyAFc1sPatTBVUf8oLCaII2aIXGuq56A07vgIfaVPEkNmJOjy50N5hWbsUimKBQw1_kntz-f6d'"
            ]
          },
          "metadata": {
            "tags": []
          },
          "execution_count": 60
        }
      ]
    },
    {
      "cell_type": "code",
      "metadata": {
        "id": "bzF6IyNM6W1s"
      },
      "source": [
        "def decryptMessage(message_secret):\n",
        "    key = getMyKey()\n",
        "    k = Fernet(key)\n",
        "    decrypted_Message = k.decrypt(message_secret)\n",
        "    return decrypted_Message"
      ],
      "execution_count": 61,
      "outputs": []
    },
    {
      "cell_type": "code",
      "metadata": {
        "colab": {
          "base_uri": "https://localhost:8080/"
        },
        "id": "8Jf0aNtyB4Pp",
        "outputId": "7fafdec2-f0bc-4502-ade3-51c3851fc796"
      },
      "source": [
        "\n",
        "decryptMessage(b'gAAAAABf3jjg7YguYh7sFv2KlA-r4_OUXm-gv9rNjjPVekj5zEaMt9fp5PXJhR1KakVyAFc1sPatTBVUf8oLCaII2aIXGuq56A07vgIfaVPEkNmJOjy50N5hWbsUimKBQw1_kntz-f6d')"
      ],
      "execution_count": 62,
      "outputs": [
        {
          "output_type": "execute_result",
          "data": {
            "text/plain": [
              "b' HEY THIS IS MY ATM NUMBER 734451'"
            ]
          },
          "metadata": {
            "tags": []
          },
          "execution_count": 62
        }
      ]
    }
  ]
}