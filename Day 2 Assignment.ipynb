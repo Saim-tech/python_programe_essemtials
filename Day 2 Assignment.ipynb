{
  "nbformat": 4,
  "nbformat_minor": 0,
  "metadata": {
    "colab": {
      "name": "Untitled",
      "provenance": [],
      "collapsed_sections": []
    },
    "kernelspec": {
      "name": "python3",
      "display_name": "Python 3"
    }
  },
  "cells": [
    {
      "cell_type": "markdown",
      "metadata": {
        "id": "boFPo5fbx0Vx"
      },
      "source": [
        "**Question 1** \n",
        "\n",
        "try 5 different types of functions in string in python  "
      ]
    },
    {
      "cell_type": "code",
      "metadata": {
        "colab": {
          "base_uri": "https://localhost:8080/"
        },
        "id": "qqRzZvZN6ZB0",
        "outputId": "ffdf20c0-b7b1-4815-df22-3a684fd2cd77"
      },
      "source": [
        "txt=\"different types of fuctions in strings\"\n",
        "x=txt.split()\n",
        "print(x)"
      ],
      "execution_count": null,
      "outputs": [
        {
          "output_type": "stream",
          "text": [
            "['different', 'types', 'of', 'fuctions', 'in', 'strings']\n"
          ],
          "name": "stdout"
        }
      ]
    },
    {
      "cell_type": "code",
      "metadata": {
        "colab": {
          "base_uri": "https://localhost:8080/"
        },
        "id": "m7007KxK62Ab",
        "outputId": "5a5bcf97-51d4-4075-adb0-b30fb84dc56c"
      },
      "source": [
        "txt=\"different types of fuctions in strings\"\n",
        "x=txt.index(\"i\")\n",
        "print(x)"
      ],
      "execution_count": null,
      "outputs": [
        {
          "output_type": "stream",
          "text": [
            "1\n"
          ],
          "name": "stdout"
        }
      ]
    },
    {
      "cell_type": "code",
      "metadata": {
        "colab": {
          "base_uri": "https://localhost:8080/"
        },
        "id": "Y4jbkeXp8Ko0",
        "outputId": "84198aea-5e29-4b3e-876e-6e03e07437f5"
      },
      "source": [
        "txt=\"different types of fuctions in strings\"\n",
        "x=txt.capitalize()\n",
        "print(x)"
      ],
      "execution_count": null,
      "outputs": [
        {
          "output_type": "stream",
          "text": [
            "Different types of fuctions in strings\n"
          ],
          "name": "stdout"
        }
      ]
    },
    {
      "cell_type": "code",
      "metadata": {
        "colab": {
          "base_uri": "https://localhost:8080/"
        },
        "id": "N7KYc8UU8M_O",
        "outputId": "7b4e24df-5a6c-4ecd-a076-7d13c78da0e5"
      },
      "source": [
        "txt=\"different types of fuctions in strings\"\n",
        "x=txt.encode()\n",
        "print(x)"
      ],
      "execution_count": null,
      "outputs": [
        {
          "output_type": "stream",
          "text": [
            "b'different types of fuctions in strings'\n"
          ],
          "name": "stdout"
        }
      ]
    },
    {
      "cell_type": "code",
      "metadata": {
        "colab": {
          "base_uri": "https://localhost:8080/"
        },
        "id": "FtDCNRdZ8N9_",
        "outputId": "cf863500-4d57-4425-c811-6d62cfe2bd47"
      },
      "source": [
        "txt=\"different types of fuctions in strings\"\n",
        "x=txt.isalnum()\n",
        "print(x)"
      ],
      "execution_count": null,
      "outputs": [
        {
          "output_type": "stream",
          "text": [
            "False\n"
          ],
          "name": "stdout"
        }
      ]
    },
    {
      "cell_type": "markdown",
      "metadata": {
        "id": "GTQegDcg9b_Z"
      },
      "source": [
        "**Question 2**\n",
        "\n",
        "try 5 different function in list object"
      ]
    },
    {
      "cell_type": "code",
      "metadata": {
        "id": "qqkQfdeb9ziN",
        "colab": {
          "base_uri": "https://localhost:8080/"
        },
        "outputId": "967ec7f4-221b-43b8-c014-468e06a1ca29"
      },
      "source": [
        "fruits = ['apple', 'banana', 'cherry']\n",
        "fruits.append(\"orange\")\n",
        "fruits"
      ],
      "execution_count": null,
      "outputs": [
        {
          "output_type": "execute_result",
          "data": {
            "text/plain": [
              "['apple', 'banana', 'cherry', 'orange']"
            ]
          },
          "metadata": {
            "tags": []
          },
          "execution_count": 45
        }
      ]
    },
    {
      "cell_type": "code",
      "metadata": {
        "id": "HBse15yV9zy8",
        "colab": {
          "base_uri": "https://localhost:8080/"
        },
        "outputId": "18a54c04-d325-473e-f7d4-8a316fd16b14"
      },
      "source": [
        "fruits = ['apple', 'banana', 'cherry']\n",
        "\n",
        "x = fruits.index(\"cherry\")\n",
        "x"
      ],
      "execution_count": null,
      "outputs": [
        {
          "output_type": "execute_result",
          "data": {
            "text/plain": [
              "2"
            ]
          },
          "metadata": {
            "tags": []
          },
          "execution_count": 46
        }
      ]
    },
    {
      "cell_type": "code",
      "metadata": {
        "id": "AjhltDPK90H4",
        "colab": {
          "base_uri": "https://localhost:8080/"
        },
        "outputId": "83f73e0b-e42f-4df6-eb42-edc86478378c"
      },
      "source": [
        "fruits = ['apple', 'banana', 'cherry']\n",
        "fruits.insert(1, \"orange\")\n",
        "fruits"
      ],
      "execution_count": null,
      "outputs": [
        {
          "output_type": "execute_result",
          "data": {
            "text/plain": [
              "['apple', 'orange', 'banana', 'cherry']"
            ]
          },
          "metadata": {
            "tags": []
          },
          "execution_count": 47
        }
      ]
    },
    {
      "cell_type": "code",
      "metadata": {
        "colab": {
          "base_uri": "https://localhost:8080/"
        },
        "id": "5l9fz1-r_pDU",
        "outputId": "d1c44836-49de-438c-da90-c07762eb6987"
      },
      "source": [
        "cars = ['Ford', 'BMW', 'Volvo']\n",
        "cars.sort()\n",
        "cars"
      ],
      "execution_count": null,
      "outputs": [
        {
          "output_type": "execute_result",
          "data": {
            "text/plain": [
              "['BMW', 'Ford', 'Volvo']"
            ]
          },
          "metadata": {
            "tags": []
          },
          "execution_count": 49
        }
      ]
    },
    {
      "cell_type": "code",
      "metadata": {
        "colab": {
          "base_uri": "https://localhost:8080/"
        },
        "id": "GRsJ07U9Aoss",
        "outputId": "148a7a7d-2832-4024-d7cb-15954f16351c"
      },
      "source": [
        "fruits = ['apple', 'banana', 'cherry']\n",
        "fruits.reverse()\n",
        "fruits"
      ],
      "execution_count": null,
      "outputs": [
        {
          "output_type": "execute_result",
          "data": {
            "text/plain": [
              "['cherry', 'banana', 'apple']"
            ]
          },
          "metadata": {
            "tags": []
          },
          "execution_count": 51
        }
      ]
    },
    {
      "cell_type": "markdown",
      "metadata": {
        "id": "aTmQbb_LAv07"
      },
      "source": [
        "**Question** **3**"
      ]
    },
    {
      "cell_type": "code",
      "metadata": {
        "colab": {
          "base_uri": "https://localhost:8080/"
        },
        "id": "UiKYTDe4CgR-",
        "outputId": "3abd418a-460b-4f76-f49d-cf65b4f56546"
      },
      "source": [
        "x = ('key1', 'key2', 'key3')\n",
        "y = 0\n",
        "\n",
        "thisdict = dict.fromkeys(x, y)\n",
        "\n",
        "print(thisdict)"
      ],
      "execution_count": 52,
      "outputs": [
        {
          "output_type": "stream",
          "text": [
            "{'key1': 0, 'key2': 0, 'key3': 0}\n"
          ],
          "name": "stdout"
        }
      ]
    },
    {
      "cell_type": "code",
      "metadata": {
        "colab": {
          "base_uri": "https://localhost:8080/"
        },
        "id": "IQAj8-R2Ch1Y",
        "outputId": "617f79da-c5f9-42ef-c40c-b6191ce85c1b"
      },
      "source": [
        "car = {\"brand\": \"Ford\",\n",
        "       \"model\": \"Mustang\",\n",
        "       \"year\": 1964\n",
        "}\n",
        "\n",
        "x = car.items()\n",
        "\n",
        "print(x)"
      ],
      "execution_count": 58,
      "outputs": [
        {
          "output_type": "stream",
          "text": [
            "dict_items([('brand', 'Ford'), ('model', 'Mustang'), ('year', 1964)])\n"
          ],
          "name": "stdout"
        }
      ]
    },
    {
      "cell_type": "code",
      "metadata": {
        "colab": {
          "base_uri": "https://localhost:8080/"
        },
        "id": "HNCROUVcCiuF",
        "outputId": "78dc9ec0-d931-4ce5-bd1b-0fcc5ba7e346"
      },
      "source": [
        "car = {\"brand\": \"Ford\",\n",
        "       \"model\": \"Mustang\",\n",
        "       \"year\": 1964\n",
        "      }\n",
        "\n",
        "car.pop(\"model\")\n",
        "\n",
        "print(car)"
      ],
      "execution_count": 60,
      "outputs": [
        {
          "output_type": "stream",
          "text": [
            "{'brand': 'Ford', 'year': 1964}\n"
          ],
          "name": "stdout"
        }
      ]
    },
    {
      "cell_type": "code",
      "metadata": {
        "colab": {
          "base_uri": "https://localhost:8080/"
        },
        "id": "2T8a6TjtCjnu",
        "outputId": "5a52bb40-2e29-43b4-cccb-006144edd333"
      },
      "source": [
        "ar = {\n",
        "  \"brand\": \"Ford\",\n",
        "  \"model\": \"Mustang\",\n",
        "  \"year\": 1964\n",
        "      }\n",
        "\n",
        "car.update({\"color\": \"White\"})\n",
        "\n",
        "print(car)"
      ],
      "execution_count": 61,
      "outputs": [
        {
          "output_type": "stream",
          "text": [
            "{'brand': 'Ford', 'year': 1964, 'color': 'White'}\n"
          ],
          "name": "stdout"
        }
      ]
    },
    {
      "cell_type": "code",
      "metadata": {
        "colab": {
          "base_uri": "https://localhost:8080/"
        },
        "id": "mbM3kO_-CkjA",
        "outputId": "adde82b6-436c-4059-8122-f18bc5f4db64"
      },
      "source": [
        "car = {\n",
        "  \"brand\": \"Ford\",\n",
        "  \"model\": \"Mustang\",\n",
        "  \"year\": 1964\n",
        "      }\n",
        "\n",
        "x = car.values()\n",
        "\n",
        "print(x)"
      ],
      "execution_count": 64,
      "outputs": [
        {
          "output_type": "stream",
          "text": [
            "dict_values(['Ford', 'Mustang', 1964])\n"
          ],
          "name": "stdout"
        }
      ]
    }
  ]
}