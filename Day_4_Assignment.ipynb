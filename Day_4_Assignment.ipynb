{
  "nbformat": 4,
  "nbformat_minor": 0,
  "metadata": {
    "colab": {
      "name": "Day 4 Assignment.ipynb",
      "provenance": []
    },
    "kernelspec": {
      "name": "python3",
      "display_name": "Python 3"
    }
  },
  "cells": [
    {
      "cell_type": "markdown",
      "metadata": {
        "id": "46ybD0oW3s5p"
      },
      "source": [
        "**Question 1**\n",
        "\n",
        "Write down a program in Python for Opening a File and Writing \" I Love LetsUpgrade\" And close it, and read it back again, and then append some data to it and close it."
      ]
    },
    {
      "cell_type": "code",
      "metadata": {
        "id": "T8U6tDwM3-aW"
      },
      "source": [
        "fh=open(\"sap event.txt\",\"w\")"
      ],
      "execution_count": 6,
      "outputs": []
    },
    {
      "cell_type": "code",
      "metadata": {
        "id": "O4MGl5JN4FBH"
      },
      "source": [
        "fh = open(\"sap event.txt\",\"w\")\n",
        "fh.write(\"I Love LetsUpgrade\")\n",
        "fh.close()"
      ],
      "execution_count": 7,
      "outputs": []
    },
    {
      "cell_type": "code",
      "metadata": {
        "colab": {
          "base_uri": "https://localhost:8080/"
        },
        "id": "g7u23n-M4FWe",
        "outputId": "8e07e31f-be2f-4bfb-ba95-4cbd2adcf86c"
      },
      "source": [
        "\n",
        "fh = open(\"sap event.txt\",\"r\")\n",
        "print (fh.read())"
      ],
      "execution_count": 8,
      "outputs": [
        {
          "output_type": "stream",
          "text": [
            "I Love LetsUpgrade\n"
          ],
          "name": "stdout"
        }
      ]
    },
    {
      "cell_type": "code",
      "metadata": {
        "id": "ddSzbJ8t4Fol"
      },
      "source": [
        "fh = open(\"sap event.txt\", \"a\")\n",
        "fh.write(\"\\nhola amigo\")\n",
        "fh.close()"
      ],
      "execution_count": 9,
      "outputs": []
    },
    {
      "cell_type": "code",
      "metadata": {
        "colab": {
          "base_uri": "https://localhost:8080/"
        },
        "id": "NXllrEwQ4avB",
        "outputId": "be0c50a5-1666-4d2d-d300-810dd63079b7"
      },
      "source": [
        "fh = open(\"sap event.txt\",\"r\")\n",
        "print (fh.read())"
      ],
      "execution_count": 10,
      "outputs": [
        {
          "output_type": "stream",
          "text": [
            "I Love LetsUpgrade\n",
            "hola amigo\n"
          ],
          "name": "stdout"
        }
      ]
    },
    {
      "cell_type": "markdown",
      "metadata": {
        "id": "vHY70SKj4xJb"
      },
      "source": [
        "**Question 2**\n",
        "\n",
        "Write a function which can return a Factorial of any numbers as INT, given in the argument."
      ]
    },
    {
      "cell_type": "code",
      "metadata": {
        "colab": {
          "base_uri": "https://localhost:8080/"
        },
        "id": "-de0G9WM47KI",
        "outputId": "bbaeb464-09b5-47cd-982f-57420e3fd42a"
      },
      "source": [
        "def factorial(n):\n",
        "    if n == 0:\n",
        "        return 1\n",
        "    else:\n",
        "        return n * factorial(n-1)\n",
        "n=int(input(\"Input a number to compute the factiorial : \"))\n",
        "print(factorial(n))"
      ],
      "execution_count": 12,
      "outputs": [
        {
          "output_type": "stream",
          "text": [
            "Input a number to compute the factiorial : 5\n",
            "120\n"
          ],
          "name": "stdout"
        }
      ]
    }
  ]
}